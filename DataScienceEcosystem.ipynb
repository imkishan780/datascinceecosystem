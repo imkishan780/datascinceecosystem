{
 "cells": [
  {
   "cell_type": "markdown",
   "metadata": {},
   "source": [
    "<center>\n",
    "    <img src=\"https://cf-courses-data.s3.us.cloud-object-storage.appdomain.cloud/IBMDeveloperSkillsNetwork-DS0105EN-SkillsNetwork/labs/Module2/images/SN_web_lightmode.png\" width=\"300\" alt=\"cognitiveclass.ai logo\">\n",
    "</center>\n"
   ]
  },
  {
   "cell_type": "markdown",
   "metadata": {
    "tags": []
   },
   "source": [
    "#### Add your code below following the instructions given in the course\n"
   ]
  },
  {
   "cell_type": "markdown",
   "metadata": {
    "tags": []
   },
   "source": [
    "# Data Science Tools and Ecosystem"
   ]
  },
  {
   "cell_type": "markdown",
   "metadata": {
    "tags": []
   },
   "source": [
    "# Data Science Tools and Ecosystem Notebook"
   ]
  },
  {
   "cell_type": "markdown",
   "metadata": {},
   "source": [
    "## Introduction\n",
    "\n",
    "In this notebook, we will explore various data science tools and the ecosystem that surrounds them. We'll dive into the essential tools, libraries, and techniques that are commonly used in the field of data science. Whether you're a beginner looking to get started or an experienced data scientist seeking to expand your toolkit, this notebook will provide valuable insights into the world of data science.\n"
   ]
  },
  {
   "cell_type": "markdown",
   "metadata": {},
   "source": [
    "## Introduction\n",
    "\n",
    "In this notebook, we will explore various data science tools and the ecosystem that surrounds them. We'll dive into the essential tools, libraries, and techniques that are commonly used in the field of data science. Whether you're a beginner looking to get started or an experienced data scientist seeking to expand your toolkit, this notebook will provide valuable insights into the world of data science.\n",
    "\n",
    "### Data Science Languages\n",
    "\n",
    "We will start by looking at some of the most important programming languages used in data science, including:\n",
    "\n",
    "1. Python\n",
    "2. R\n",
    "3. Julia\n",
    "4. SQL\n",
    "5. Scala\n"
   ]
  },
  {
   "cell_type": "markdown",
   "metadata": {},
   "source": [
    "# Data Science Libraries\n",
    "\n",
    "Here is a list of popular data science libraries in Python:\n",
    "\n",
    "1. NumPy\n",
    "2. pandas\n",
    "3. Matplotlib\n",
    "4. Seaborn\n",
    "5. Scikit-learn\n",
    "6. TensorFlow\n",
    "7. Keras\n",
    "8. PyTorch\n"
   ]
  },
  {
   "cell_type": "markdown",
   "metadata": {},
   "source": [
    "# Arithmetic Expression Examples\n",
    "\n",
    "In this section, we will explore some examples of arithmetic expressions in mathematics:\n",
    "\n",
    "1. Addition: `2 + 3 = 5`\n",
    "2. Subtraction: `7 - 4 = 3`\n",
    "3. Multiplication: `5 * 6 = 30`\n",
    "4. Division: `10 / 2 = 5`\n",
    "5. Exponentiation: `2^3 = 8`\n",
    "6. Square Root: `√9 = 3`\n"
   ]
  },
  {
   "cell_type": "markdown",
   "metadata": {},
   "source": [
    "# Data Science Tools\n",
    "\n",
    "| Tool Name       | Description                                |\n",
    "|-----------------|--------------------------------------------|\n",
    "| Python          | A versatile programming language            |\n",
    "| Jupyter Notebook| An interactive environment for data analysis|\n",
    "| NumPy           | A library for numerical computations       |\n",
    "| pandas          | A data manipulation and analysis library   |\n",
    "| Matplotlib      | A plotting library for data visualization  |\n",
    "| Seaborn         | A statistical data visualization library   |\n",
    "| Scikit-learn    | A machine learning library in Python       |\n",
    "| TensorFlow      | An open-source machine learning framework  |\n",
    "| Keras           | A high-level neural networks API           |\n",
    "| PyTorch         | A deep learning framework                  |\n"
   ]
  },
  {
   "cell_type": "code",
   "execution_count": 3,
   "metadata": {
    "tags": []
   },
   "outputs": [
    {
     "name": "stdout",
     "output_type": "stream",
     "text": [
      "Multiplication result: 15\n",
      "Addition result: 8\n"
     ]
    }
   ],
   "source": [
    "# Multiply and Add Numbers\n",
    "\n",
    "# Define two numbers\n",
    "num1 = 5\n",
    "num2 = 3\n",
    "\n",
    "# Multiply the numbers\n",
    "result_multiply = num1 * num2\n",
    "\n",
    "# Add the numbers\n",
    "result_add = num1 + num2\n",
    "\n",
    "# Print the results\n",
    "print(f\"Multiplication result: {result_multiply}\")\n",
    "print(f\"Addition result: {result_add}\")\n"
   ]
  },
  {
   "cell_type": "code",
   "execution_count": 4,
   "metadata": {
    "tags": []
   },
   "outputs": [
    {
     "name": "stdout",
     "output_type": "stream",
     "text": [
      "120 minutes is equal to 2.0 hours\n"
     ]
    }
   ],
   "source": [
    "# Convert Minutes to Hours\n",
    "\n",
    "# Define the number of minutes\n",
    "minutes = 120\n",
    "\n",
    "# Convert minutes to hours\n",
    "hours = minutes / 60\n",
    "\n",
    "# Print the result\n",
    "print(f\"{minutes} minutes is equal to {hours} hours\")\n"
   ]
  },
  {
   "cell_type": "markdown",
   "metadata": {},
   "source": [
    "**Introduction:**\n",
    "\n",
    "In this section, we will explore some key concepts in data science, including:\n",
    "\n",
    "- Data cleaning\n",
    "- Data visualization\n",
    "- Machine learning\n",
    "- Model evaluation\n",
    "- Data interpretation\n"
   ]
  },
  {
   "cell_type": "markdown",
   "metadata": {},
   "source": [
    "**Author:** Kishankumar Pravinbhai Thummar"
   ]
  },
  {
   "cell_type": "code",
   "execution_count": null,
   "metadata": {},
   "outputs": [],
   "source": []
  }
 ],
 "metadata": {
  "kernelspec": {
   "display_name": "Python",
   "language": "python",
   "name": "conda-env-python-py"
  },
  "language_info": {
   "codemirror_mode": {
    "name": "ipython",
    "version": 3
   },
   "file_extension": ".py",
   "mimetype": "text/x-python",
   "name": "python",
   "nbconvert_exporter": "python",
   "pygments_lexer": "ipython3",
   "version": "3.7.12"
  }
 },
 "nbformat": 4,
 "nbformat_minor": 4
}
